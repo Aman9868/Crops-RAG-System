{
 "cells": [
  {
   "cell_type": "code",
   "execution_count": 2,
   "metadata": {},
   "outputs": [],
   "source": [
    "from langchain_community.llms import Ollama\n",
    "from langchain.agents import Tool\n",
    "from langchain_community.embeddings import HuggingFaceEmbeddings,OllamaEmbeddings\n",
    "from langchain_community.document_loaders import UnstructuredExcelLoader\n",
    "from langchain_core.output_parsers import StrOutputParser\n",
    "from langchain_core.runnables import RunnableLambda, RunnablePassthrough\n",
    "from langchain.vectorstores import Chroma\n",
    "from langchain.prompts import ChatPromptTemplate\n",
    "from langchain_text_splitters import RecursiveCharacterTextSplitter\n",
    "from langchain_community.document_loaders import Docx2txtLoader\n",
    "from pathlib import Path\n",
    "from langchain_community.document_loaders import DirectoryLoader,UnstructuredFileLoader"
   ]
  },
  {
   "cell_type": "code",
   "execution_count": null,
   "metadata": {},
   "outputs": [],
   "source": [
    "loader = DirectoryLoader('docs',loader_cls=UnstructuredFileLoader)"
   ]
  },
  {
   "cell_type": "code",
   "execution_count": 9,
   "metadata": {},
   "outputs": [
    {
     "data": {
      "text/plain": [
       "[Document(page_content='Cultivation of Potato\\n\\nAbout Potato:\\n\\nPotato is the third most important food crop globally.\\n\\nEconomical crop is known as \"Poor Man’s Friend\" due to affordability.\\n\\nMajor source of carbohydrates, often substituting cereals.\\n\\nRich in essential nutrients: protein, minerals (Ca, P, Fe), vitamins (B1, B2, B6, C), and amino acids (leucine, tryptophane, isoleucine).\\n\\nCultivated widely in India, especially in Indo-Gangetic plains.\\n\\nProduction\\n\\nWest Bengal is a major potato-producing state in India, with Hoogly district leading in both area and production.\\n\\nClimate:\\n\\nCool-season crop requiring bright sunshine\\n\\nLow humidity (60-80%)\\n\\nTemperatures 15-25°C.\\n\\nThe optimal night temperature for growth is 21°C.\\n\\nGrown in winter in plains and summer in hills.\\n\\nHigh temperatures (>30°C) hinder growth\\n\\nHumidity and rain can cause diseases\\n\\nSoil requirements:\\n\\nFriable, well-aerated, fairly deep, organic matter-rich.\\n\\nPrefers light soils for uniform temperature and easy harvesting.\\n\\nUnsuitable for alkaline or saline soils, acidic soils (pH 5.0 to 6.5) limit scab diseases.\\n\\nTime of Planting:\\n\\nAutumn Crop: Last week of September to mid-October\\n\\nSpring Crop: Second fortnight of January\\n\\nSeptember planting dependent on the prevailing temperature\\n\\nSeed Rate:\\n\\nDepends on variety, size, and planting time\\n\\nPer hectare seed rate varies based on:\\n\\nTime of \\n\\nsowing\\n\\nSeed size (Diameter in cm) \\n\\nSpacing in cm \\n\\n(P to P x R to R)\\n\\nRequired seed in q/ha \\n\\nEarly Sowing\\n\\n2.5-3.0 \\n\\n45 x 15 \\n\\n10 – 15 \\n\\nMain Sowing\\n\\n3.0-4.0 \\n\\n60 x 25 \\n\\n25 – 30 \\n\\nLate Sowing\\n\\n4.0-5.0 \\n\\n50 x 20 \\n\\n20 – 22 \\n\\nAutumn Crop:\\n\\nSowing: Last week of September to mid-October\\n\\nSeed rate varies based on the above factors\\n\\nSpring Crop:\\n\\nSowing: Second fortnight of January\\n\\nSeed rate varies based on the above factors\\n\\nLand Preparation:\\n\\nPlough the field 20-25 cm deep after Kharif crop harvest\\n\\nUse mould board or disc-plow followed by disc-harrow or tiller\\n\\nPerform two to three cross harrowing, then plank to level surface\\n\\nIncorporate 25-30 t/ha of well-decomposed FYM during plowing\\n\\nManures and Fertilizers:\\n\\nApply 20 tonnes of farmyard manure or green manuring\\n\\nAdd 2 kg each of Azospirillum and Phosphobacterium during land preparation\\n\\nFertilizer dose: 180-240 kg N, 60-90 kg P2O5, 85-125 kg K2O for Indo Gangetic plains\\n\\nApply phosphorous and potash as basal dressing, split nitrogen at planting and earthing-up\\n\\nSelection of Seed Tubers:\\n\\nChoose healthy, pure seeds of high-yielding varieties\\n\\nAvoid tubers with surface-borne diseases or rot\\n\\nObtain seed from certified agencies; replace every 3-4 years\\n\\nSeed Treatment:\\n\\nStore seed potatoes in a cool, shady place for 1-2 weeks to sprout\\n\\nTreat both whole and cut tubers with Aretan or Tafasan against diseases\\n\\nBreak tuber dormancy if planting before completion; use Thiourea and Gibberellic Acid\\n\\nMethods of Planting:\\n\\nPlant on ridges, flat beds, or flat surfaces with subsequent ridging\\n\\nUse appropriate methods based on soil type and conditions\\n\\nIntegrated Weed Management:\\n\\nEmploy hand weeding, mulching, and herbicides for effective weed control\\n\\nApply pre-emergence herbicides like Alachlor or post-emergence herbicides like Paraquat\\n\\nIrrigation:\\n\\nEmploy furrow irrigation; irrigate immediately after planting\\n\\nProvide light and repeated irrigations or drip irrigation\\n\\nAvoid over-flooding\\n\\nMajor Insect-pests:\\n\\nAphids\\n\\nWhiteflies\\n\\nThrips\\n\\nWhite Grub\\n\\nCutworm\\n\\nPotato Tuber Moth\\n\\nControl\\n\\nThrough traps:\\n\\nTolerant varieties:\\n\\nInsecticides:\\n\\nMajor Diseases:\\n\\nLate blight (Control through crop rotation, seed treatment, and fungicides)\\n\\nBlack scurf (Control through crop rotation, seed treatment, and fungicides)\\n\\nBacterial soft rot (Control through crop rotation, seed treatment, and fungicides)\\n\\nBacterial wilt (Control through crop rotation, seed treatment, and fungicides)\\n\\nPotato scab (Control through crop rotation, seed treatment, and fungicides)\\n\\nDehaulming:\\n\\nRemove aerial parts of plants to prepare quality seed and reduce viral disease spread\\n\\nHarvesting:\\n\\nHarvest about 15 days after cutting haulms; dig manually or with diggers\\n\\nGrade and pack tubers properly for storage\\n\\nYield and Income:\\n\\nAverage yield of 300-350 quintals per hectare with proper practices\\n\\nApproximate cost of cultivation: Rs.1,50,000 per hectare; net profit: Rs.1,40,000\\n\\n\\n\\nEarly Varieties\\n\\nKufri Pukhraj: \\n\\nMature in 70 days. \\n\\nIt is susceptible to late blight but escapes due to earliness. \\n\\nTubers are large, oval, and white with fleet eyes. \\n\\nYields 270 q/ha in 70-90 days.\\n\\n\\n\\nKufri Chandramukhi: \\n\\nMature in 80-90 days. \\n\\nIts tuber is white, large, smooth, oval, and flattened, with white skin, fleet eyes, and white flesh.\\n\\nThe tubers are smooth, uniform, and more attractive. \\n\\nAverage yield is about 250 q/ha. \\n\\nIt is susceptible to late blight. \\n\\n\\n\\nMid-Season Varieties\\n\\nKufri Pushkar:\\n\\nMature in 90-100 days\\n\\nWhite tuber variety having resistance to late blight. \\n\\nIt has very good keeping quality under ambient storage conditions. \\n\\nIt gives a higher yield than the other medium-maturing cultivars. \\n\\nDue to its good keeping quality, it has wider acceptability. \\n\\nIts average yield is 350-400 q/ha.\\n\\n\\n\\nKufri Jyoti: \\n\\nIt matures in about 90-110 days \\n\\nTubers are large, oval, white with fleet eyes and white flesh.\\n\\nTubers show variable degrees of cracking. \\n\\nThe variety possesses a moderate degree of resistance to late blight. \\n\\nIt is suitable for planting in the spring season. \\n\\nYields about 200-250 q/ha. \\n\\n\\n\\n\\n\\nLate Varieties\\n\\nKufri Badshah: \\n\\nMatures in 100-110 days\\n\\nThe tubers are large, oval, white, and smooth with fleet eyes and dull white flesh.\\n\\nTubers tend to develop a purple color on exposure to light. \\n\\nIt is moderately resistant to late blight\\n\\nAverage yield 320 q/ha.\\n\\n\\n\\nKufri Sindhuri: \\n\\nIt is a medium late variety and takes 110-120 days to mature.\\n\\nThe tuber is medium, smooth, and round with light red skin, deep eyes, and dull white flesh.\\n\\nThe tubers have very good keeping quality. \\n\\nThe tubers become hollow under very high fertility conditions. \\n\\nIt is moderately resistant to early blight and tolerant to leaf roll.\\n\\nThe variety yields about 300 q/ha. \\n\\n\\n\\n\\n\\nProcessing Varieties\\n\\nKufri Frysona: \\n\\nIt is medium maturing (90-100 days), \\n\\nResistant to late blight with good keeping quality.\\n\\nThe tubers are long oval and white. \\n\\nIt is a variety suitable for processing French fries due to long tubers with high dry matter (22%). \\n\\nAverage yield is 380-400 q/ha.\\n\\nKufri Chipsona-3: \\n\\nIt is a medium maturing variety (90-100 days), \\n\\nResistant to late blight and has good keeping quality. \\n\\nThe tubers are oval and white.\\n\\nIt is suitable for processing into chips.\\n\\nAverage yield is 400-450 q/ha', metadata={'source': './potato.docx'}),\n",
       " Document(page_content='\\n\\n\\nS.No.\\nName of Crop\\nGrowth Stage\\nMin Temp.\\nMax Temp.\\nRH % Min\\nRH % Max\\nSoil\\npH Min\\npH Max\\nTillage\\nFYM Min\\nFYM Max\\nSeed Treatment Chemical\\nChemical Dose\\nNitrogen\\nPhosphoras\\nPotas\\nWeed Name\\nMechanical weed control\\nChamicals weed control\\nBiological weed control\\nPests Name\\nMechanical Pests Control\\nChamicals Pests Control\\nBiological Pests Control\\nDisease  Name\\nMachanical Disease Control\\nChamicals Disease Control\\nBiological Disease Control\\n\\n\\n1\\nPotato\\nGermination\\n10\\n21\\n65\\n75\\nLoamy\\n5.2\\n6.4\\n2\\n25\\n30\\nCarbon disulphide\\n30g / 100 Kg\\n210\\n75\\n107\\n\\n1st Hoeing at 45 DAS\\n\\n\\nNematodes\\nAvoid growing potato year after year in the same field.\\\\n\\\\nFollow rotation with vegetables and green manure\\nCarbofuran 3\\xa0G (1.0 kg a.i.) 33 kg/ha in furrows while seeding\\nPseudomonas fluorescens\\xa0at 10 kg/ha\\nLate blight\\nRemove ground creepers \\\\n\\\\n Grow late blight resistant varieties\\\\nKufri Jyothi, Kufri Malar and Kufri Thangam\\n45, 60 and 75 days after planting\\\\n\\\\nSpray Mancozeb 2 g/lit or\\\\n\\\\nChlorothalonil 2 g/lit\\n\\n\\n\\n\\n\\nVegetative\\n15\\n21\\n65\\n75\\nSandy loam\\n\\n\\n2\\n\\n\\n\\n\\n210\\n75\\n107\\n\\n2nd Hoeing at 60 DAS\\n\\n\\nAphids\\n\\n2 ml/lit.\\\\nMethyl demeton 25 EC OR\\\\n\\\\nDimethoate 30 EC\\n\\nBrown rot\\nSelect brown rot disease free tubers\\\\n\\\\nGive proper drainage facilities\\\\n\\\\nRemove and destroy the affected plants.\\n\\n\\n\\n\\n\\n\\nTuber Initiation\\n15\\n21\\n65\\n75\\n\\n\\n\\n\\n\\n\\n\\n\\n\\n\\n\\n\\n\\n\\n\\nCut worms\\nInstall light trap\\n2 ml/lit\\xa0\\\\nChlorpyriphos or \\\\n\\\\nQuinalphos\\\\n\\\\nday after planting.\\n\\nEarly blight\\n\\n45, 60 and 75 days after planting\\\\n\\\\nSpraying Mancozeb 2 g/lit or \\\\n\\\\nChlorothalonil 2 g/lit\\n\\n\\n\\n\\n\\nTuber Bulking\\n15\\n24\\n65\\n75\\n\\n\\n\\n\\n\\n\\n\\n\\n\\n\\n\\n\\n\\n\\n\\nWhite grub\\nSummer ploughing\\\\n\\\\nInstall light traps between 7 p.m. and 9 p.m. in April - May months\\\\n\\\\nHand pick the adult beetles in the morning\\\\n\\\\nHand pick the 3rd instar grub during July - August.\\nDust Quinalphos 5 D at 25 kg/ha 10 days after first summer rains\\\\n\\\\nEndemic areas Phorate 10 G at 25 kg/ha during autumn season (August - October)\\n\\nVirus diseases\\n\\nUse virus free potato seeds\\\\n\\\\nRogue the virus affected plants regularly\\nControl the aphid vectors by spraying 2 ml/ha Dimethoate or \\\\nMethyl demeton\\n\\n\\n\\n\\nMaturaty\\n20\\n28\\n65\\n80\\n\\n\\n\\n\\n\\n\\n\\n\\n\\n\\n\\n\\n\\n\\n\\nPotato tuber moth\\nPlant the tubers to a depth at 10 - 15 cm deep\\\\n\\\\nInstall pheromone traps at 20 No/ha\\\\n\\\\nEarth up at 60 days after planting to avoid potato tuber moth egg laying in the exposed tubers\\\\n\\\\npheromone traps\\nspray NSKE 5 % or Quinalphos 20 EC 2 ml/lit (ETL 5 % leaf damage)\\\\n\\\\nseed tubers with Quinalphos dust @ 1 kg/100 kg of tubers\\n\\n\\n\\n\\n\\n\\n\\n\\n\\n ', metadata={'source': './data2.xlsx'})]"
      ]
     },
     "execution_count": 9,
     "metadata": {},
     "output_type": "execute_result"
    }
   ],
   "source": [
    "documents = []\n",
    "l1 = Docx2txtLoader(\"./potato.docx\")\n",
    "documents.extend(l1.load())\n",
    "l2=UnstructuredExcelLoader(\"./data2.xlsx\")\n",
    "documents.extend(l2.load())\n",
    "documents"
   ]
  },
  {
   "cell_type": "code",
   "execution_count": 10,
   "metadata": {},
   "outputs": [
    {
     "data": {
      "text/plain": [
       "Document(page_content='Cultivation of Potato\\n\\nAbout Potato:\\n\\nPotato is the third most important food crop globally.\\n\\nEconomical crop is known as \"Poor Man’s Friend\" due to affordability.\\n\\nMajor source of carbohydrates, often substituting cereals.\\n\\nRich in essential nutrients: protein, minerals (Ca, P, Fe), vitamins (B1, B2, B6, C), and amino acids (leucine, tryptophane, isoleucine).\\n\\nCultivated widely in India, especially in Indo-Gangetic plains.\\n\\nProduction\\n\\nWest Bengal is a major potato-producing state in India, with Hoogly district leading in both area and production.\\n\\nClimate:\\n\\nCool-season crop requiring bright sunshine\\n\\nLow humidity (60-80%)\\n\\nTemperatures 15-25°C.\\n\\nThe optimal night temperature for growth is 21°C.\\n\\nGrown in winter in plains and summer in hills.\\n\\nHigh temperatures (>30°C) hinder growth\\n\\nHumidity and rain can cause diseases\\n\\nSoil requirements:\\n\\nFriable, well-aerated, fairly deep, organic matter-rich.\\n\\nPrefers light soils for uniform temperature and easy harvesting.', metadata={'source': './potato.docx'})"
      ]
     },
     "execution_count": 10,
     "metadata": {},
     "output_type": "execute_result"
    }
   ],
   "source": [
    "text_splitter = RecursiveCharacterTextSplitter(\n",
    "    separators = [\"\\n\\n\", \"\\n\", \" \", \"\"],\n",
    "    chunk_size=1000,\n",
    "    chunk_overlap=200,\n",
    "   \n",
    ")\n",
    "docs=text_splitter.split_documents(documents)\n",
    "docs[0]"
   ]
  },
  {
   "cell_type": "code",
   "execution_count": 11,
   "metadata": {},
   "outputs": [],
   "source": [
    "model=Ollama(model=\"mistral\")\n",
    "embedding = OllamaEmbeddings(model=\"nomic-embed-text\")\n",
    "vectordb = Chroma.from_documents(documents=docs, \n",
    "                                        embedding=embedding,\n",
    "                                        persist_directory=\"db\")\n",
    "\n",
    "vectordb.persist()\n",
    "\n",
    "# Create a retriever from the Chroma vector database\n",
    "retriever = vectordb.as_retriever(search_kwargs={\"k\": 3})\n",
    "\n",
    "template = \"\"\"You are an friendly ai assistant that help users find the most relevant and accurate answers\n",
    "to their questions based on the documents you have access to.\n",
    "When answering the questions, mostly rely on the info in documents.Answer the question based only on the following context:\n",
    "{context}\n",
    "\n",
    "Question: {question}\n",
    "\"\"\"\n",
    "prompt = ChatPromptTemplate.from_template(template)"
   ]
  },
  {
   "cell_type": "code",
   "execution_count": 12,
   "metadata": {},
   "outputs": [
    {
     "name": "stdout",
     "output_type": "stream",
     "text": [
      " Based on the context of the documents you provided, the minimum temperature required during the Germination stage for Potato crops is 10 degrees Celsius.\n"
     ]
    }
   ],
   "source": [
    "chain = (\n",
    "    {\"context\": retriever, \"question\": RunnablePassthrough()}\n",
    "    | prompt\n",
    "    | model\n",
    "    | StrOutputParser()\n",
    ")\n",
    "print(chain.invoke(\"What is the min temperature required in Germination Stage?\"))"
   ]
  },
  {
   "cell_type": "code",
   "execution_count": 13,
   "metadata": {},
   "outputs": [
    {
     "name": "stdout",
     "output_type": "stream",
     "text": [
      " Based on the provided documents, the major diseases in potato are:\n",
      "\n",
      "1. Late blight (Control through crop rotation, seed treatment, and fungicides)\n",
      "2. Black scurf (Control through crop rotation, seed treatment, and fungicides)\n",
      "3. Bacterial soft rot (Control through crop rotation, seed treatment, and fungicides)\n",
      "4. Bacterial wilt (Control through crop rotation, seed treatment, and fungicides)\n",
      "5. Potato scab (Control through crop rotation, seed treatment, and fungicides)\n",
      "\n",
      "Please note that the documents suggest using crop rotation, seed treatment, and fungicides for controlling these diseases. However, they do not specify which fungicides to use or provide dosage information. It is essential to consult with a potato growing expert or refer to additional, reliable resources for specific recommendations on which fungicides and chemical doses to use for each disease.\n"
     ]
    }
   ],
   "source": [
    "print(chain.invoke(\"What are the major disease in Potato?\"))"
   ]
  },
  {
   "cell_type": "code",
   "execution_count": 8,
   "metadata": {},
   "outputs": [
    {
     "name": "stdout",
     "output_type": "stream",
     "text": [
      " Based on the provided context, there are at least two named potato varieties mentioned for processing purposes: Kufri Frysona and Kufri Chipsona-3. Both of these varieties have good keeping quality and are resistant to late blight, making them suitable for processing into French fries or chips respectively. Their average yields range from 380-400 quintals per hectare.\n"
     ]
    }
   ],
   "source": [
    "print(chain.invoke(\"What are the processing varities of Potato?\"))"
   ]
  },
  {
   "cell_type": "code",
   "execution_count": 14,
   "metadata": {},
   "outputs": [
    {
     "name": "stdout",
     "output_type": "stream",
     "text": [
      " Based on the information in the documents, here are some ways to control late blight disease in potatoes:\n",
      "\n",
      "1. Practice crop rotation: Avoid growing potatoes year after year in the same field. Follow rotation with vegetables and green manure.\n",
      "2. Remove ground creepers and grow late blight resistant varieties like Kufri Jyothi, Kufri Malar, and Kufri Thangam at 45, 60, and 75 days after planting respectively.\n",
      "3. Spray Mancozeb 2 g/lit or Chlorothalonil 2 g/lit at 45, 60, and 75 days after planting.\n",
      "\n",
      "These methods can help in the control of late blight disease in potatoes.\n"
     ]
    }
   ],
   "source": [
    "print(chain.invoke(\"My name is Aman.Please tell me how to control late blight disease\"))"
   ]
  }
 ],
 "metadata": {
  "kernelspec": {
   "display_name": "agents",
   "language": "python",
   "name": "python3"
  },
  "language_info": {
   "codemirror_mode": {
    "name": "ipython",
    "version": 3
   },
   "file_extension": ".py",
   "mimetype": "text/x-python",
   "name": "python",
   "nbconvert_exporter": "python",
   "pygments_lexer": "ipython3",
   "version": "3.10.12"
  }
 },
 "nbformat": 4,
 "nbformat_minor": 2
}
